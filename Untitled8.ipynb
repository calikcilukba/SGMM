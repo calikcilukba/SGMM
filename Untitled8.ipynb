{
  "nbformat": 4,
  "nbformat_minor": 0,
  "metadata": {
    "colab": {
      "name": "Untitled8.ipynb",
      "provenance": []
    },
    "kernelspec": {
      "name": "python3",
      "display_name": "Python 3"
    }
  },
  "cells": [
    {
      "cell_type": "code",
      "metadata": {
        "colab": {
          "base_uri": "https://localhost:8080/"
        },
        "id": "Gt9eRIHfkIvY",
        "outputId": "c473f967-cfa7-403b-97bc-b0559d9e7ef3"
      },
      "source": [
        "# Boolean\r\n",
        "bool1 = False\r\n",
        "print(bool1)\r\n",
        "print(type(bool1))"
      ],
      "execution_count": 3,
      "outputs": [
        {
          "output_type": "stream",
          "text": [
            "False\n",
            "<class 'bool'>\n"
          ],
          "name": "stdout"
        }
      ]
    },
    {
      "cell_type": "code",
      "metadata": {
        "colab": {
          "base_uri": "https://localhost:8080/"
        },
        "id": "hF0Ep4C1q1T8",
        "outputId": "3604adfe-7f9e-4521-e6ec-d2c3e790ba95"
      },
      "source": [
        "#String\r\n",
        "test = \"Pengenalan Python\"\r\n",
        "print(test)\r\n",
        "print(type(test))"
      ],
      "execution_count": 6,
      "outputs": [
        {
          "output_type": "stream",
          "text": [
            "Pengenalan Python\n",
            "<class 'str'>\n"
          ],
          "name": "stdout"
        }
      ]
    },
    {
      "cell_type": "code",
      "metadata": {
        "colab": {
          "base_uri": "https://localhost:8080/"
        },
        "id": "rRfI9HwIrEMf",
        "outputId": "99f00ccd-39c9-46c4-d0c0-bc5f02eda03c"
      },
      "source": [
        "#integer\r\n",
        "inte = -1\r\n",
        "print(inte+3)\r\n",
        "print(inte)\r\n",
        "print(type(inte))"
      ],
      "execution_count": 62,
      "outputs": [
        {
          "output_type": "stream",
          "text": [
            "2\n",
            "-1\n",
            "<class 'int'>\n"
          ],
          "name": "stdout"
        }
      ]
    },
    {
      "cell_type": "code",
      "metadata": {
        "colab": {
          "base_uri": "https://localhost:8080/"
        },
        "id": "on32FwdCrQqW",
        "outputId": "81378d5a-8b7c-4072-f328-23e4c6c003e7"
      },
      "source": [
        "#float\r\n",
        "fl = 3.14\r\n",
        "print(fl)\r\n",
        "print(type(fl))"
      ],
      "execution_count": 10,
      "outputs": [
        {
          "output_type": "stream",
          "text": [
            "3.14\n",
            "<class 'float'>\n"
          ],
          "name": "stdout"
        }
      ]
    },
    {
      "cell_type": "code",
      "metadata": {
        "colab": {
          "base_uri": "https://localhost:8080/"
        },
        "id": "dozfQWPurcnk",
        "outputId": "38dd94ba-6dac-46bb-f96a-f24b39fe6b3a"
      },
      "source": [
        "#list\r\n",
        "#data untauan yang menyimpan tipe data\r\n",
        "# list1 = [1,2,3,\"isi\",3.14]\r\n",
        "# print(list1)\r\n",
        "# list1.append(10)\r\n",
        "# print(list1)\r\n",
        "# list1.pop(5)\r\n",
        "# print(list1)\r\n",
        "# print(len(list))\r\n",
        "# print(list[2])\r\n",
        "# # print(list)\r\n",
        "# print(type(list))\r\n",
        "\r\n",
        "# import numpy as np\r\n",
        "list2 = np.array([3,2,1],[3,2,1])\r\n",
        "# print(list2)\r\n",
        "# print(type(list2))\r\n",
        "# print(list2/2)\r\n",
        "# print(list1/2)"
      ],
      "execution_count": 27,
      "outputs": [
        {
          "output_type": "stream",
          "text": [
            "[1, 2, 3, 'isi', 3.14]\n",
            "[1, 2, 3, 'isi', 3.14, 10]\n",
            "[1, 2, 3, 'isi', 3.14]\n"
          ],
          "name": "stdout"
        }
      ]
    },
    {
      "cell_type": "code",
      "metadata": {
        "colab": {
          "base_uri": "https://localhost:8080/"
        },
        "id": "JsPEH-KTro1U",
        "outputId": "0dd5ab0e-dc3f-4a91-8437-10ae4e44bbd8"
      },
      "source": [
        "#tuple\r\n",
        "tuple1 = (1,2,3)\r\n",
        "print(tuple1)\r\n",
        "print(type(tuple1))"
      ],
      "execution_count": 29,
      "outputs": [
        {
          "output_type": "stream",
          "text": [
            "(1, 2, 3)\n",
            "<class 'tuple'>\n"
          ],
          "name": "stdout"
        }
      ]
    },
    {
      "cell_type": "code",
      "metadata": {
        "colab": {
          "base_uri": "https://localhost:8080/"
        },
        "id": "mY967md_tMx4",
        "outputId": "fceb9031-8a9d-4eb2-e6c9-32c5ad09fc5d"
      },
      "source": [
        "#dictionary\r\n",
        "Person\r\n",
        "person\r\n",
        "_person = {\r\n",
        "    \"nama\":\"mahasiswa\",\r\n",
        "    \"kelas\":\"IFXXXXX\",\r\n",
        "    \"nim\":\"13011XXXX\",\r\n",
        "    \"nilai\":[\r\n",
        "             [\"mtk\",90],[\"bindo\",70]\r\n",
        "    ]\r\n",
        "}\r\n",
        "print(person)\r\n",
        "print(type(person))\r\n",
        "print(person['nilai'][0][1])"
      ],
      "execution_count": 40,
      "outputs": [
        {
          "output_type": "stream",
          "text": [
            "{'nama': 'mahasiswa', 'kelas': 'IFXXXXX', 'nim': '13011XXXX', 'nilai': [['mtk', 90], ['bindo', 70]]}\n",
            "<class 'dict'>\n",
            "90\n"
          ],
          "name": "stdout"
        }
      ]
    },
    {
      "cell_type": "code",
      "metadata": {
        "colab": {
          "base_uri": "https://localhost:8080/"
        },
        "id": "ZLK7uOKZtgnN",
        "outputId": "a7a85666-c08c-46fe-dbaf-8aa3d656ad86"
      },
      "source": [
        "#if condition\r\n",
        "num = 5\r\n",
        "if(num > 0):\r\n",
        "  print(\"positif\")\r\n",
        "\r\n",
        "#short hand if\r\n",
        "if(num > 0): print(\"bil pos\")"
      ],
      "execution_count": 44,
      "outputs": [
        {
          "output_type": "stream",
          "text": [
            "positif\n",
            "bil pos\n"
          ],
          "name": "stdout"
        }
      ]
    },
    {
      "cell_type": "code",
      "metadata": {
        "colab": {
          "base_uri": "https://localhost:8080/"
        },
        "id": "WrzihdLJuV4h",
        "outputId": "6e3ca038-cdd1-4fb1-80f6-608aa92a4569"
      },
      "source": [
        "# if else condition\r\n",
        "num = -1\r\n",
        "\r\n",
        "# if (num > 0):\r\n",
        "#   print(\"positif\")\r\n",
        "# else:\r\n",
        "#   print(\"negatif\")\r\n",
        "\r\n",
        "#short hand if\r\n",
        "print(\"postif\") if(num > 0) else print(\"negatif\")"
      ],
      "execution_count": 47,
      "outputs": [
        {
          "output_type": "stream",
          "text": [
            "negatif\n",
            "negatif\n"
          ],
          "name": "stdout"
        }
      ]
    },
    {
      "cell_type": "code",
      "metadata": {
        "colab": {
          "base_uri": "https://localhost:8080/"
        },
        "id": "7_Q30WETvO7Z",
        "outputId": "e88b62e1-86ec-476f-9e76-cc93f7b7a8fb"
      },
      "source": [
        "#elif condition\r\n",
        "\r\n",
        "num1 = 2\r\n",
        "num2 = 2\r\n",
        "\r\n",
        "# if(num1 > num2):\r\n",
        "#   print(\"num1 lebih besar\")\r\n",
        "# elif(num1 == num2):\r\n",
        "#   print(\"num1 dan num2 sama\")\r\n",
        "# else:\r\n",
        "#   print(\"num1 dan num2 sama\")\r\n",
        "\r\n",
        "#short\r\n",
        "print(\"num1 lebih besar\") if(num1 > num2) else print(\"num1 dan num2 sama\") if(num1 == num2) else print(\"num1 dan num2 sama\")"
      ],
      "execution_count": 50,
      "outputs": [
        {
          "output_type": "stream",
          "text": [
            "num1 dan num2 sama\n"
          ],
          "name": "stdout"
        }
      ]
    },
    {
      "cell_type": "code",
      "metadata": {
        "colab": {
          "base_uri": "https://localhost:8080/"
        },
        "id": "Tc-PRjq1v9A0",
        "outputId": "78c1dee8-58ba-492e-95a2-c864f8db7377"
      },
      "source": [
        "test = True\r\n",
        "if(test):\r\n",
        "  print(\"dia true\")\r\n",
        "else:\r\n",
        "  print(\"false\")"
      ],
      "execution_count": 51,
      "outputs": [
        {
          "output_type": "stream",
          "text": [
            "dia true\n"
          ],
          "name": "stdout"
        }
      ]
    },
    {
      "cell_type": "code",
      "metadata": {
        "colab": {
          "base_uri": "https://localhost:8080/"
        },
        "id": "O5A9ANGawa-g",
        "outputId": "48053729-117b-4a5d-ce53-f85af809be6e"
      },
      "source": [
        "list1 = [1,2]\r\n",
        "if not list1:\r\n",
        "  print(\"kosong\")\r\n",
        "else:\r\n",
        "  print(\"ada kok\")"
      ],
      "execution_count": 53,
      "outputs": [
        {
          "output_type": "stream",
          "text": [
            "ada kok\n"
          ],
          "name": "stdout"
        }
      ]
    },
    {
      "cell_type": "code",
      "metadata": {
        "colab": {
          "base_uri": "https://localhost:8080/"
        },
        "id": "kKjFPoK4wmy1",
        "outputId": "bec48d35-f910-470c-e3dc-9f4b494f6025"
      },
      "source": [
        "x = input()\r\n",
        "print(type(x))"
      ],
      "execution_count": 54,
      "outputs": [
        {
          "output_type": "stream",
          "text": [
            "1\n",
            "<class 'str'>\n"
          ],
          "name": "stdout"
        }
      ]
    },
    {
      "cell_type": "code",
      "metadata": {
        "colab": {
          "base_uri": "https://localhost:8080/"
        },
        "id": "KZt5QOX2xK3i",
        "outputId": "3ea9461c-bc8d-4b26-8b28-fed633284664"
      },
      "source": [
        "y = complex(input())\r\n",
        "print(2+y)\r\n",
        "print(type(y))"
      ],
      "execution_count": 61,
      "outputs": [
        {
          "output_type": "stream",
          "text": [
            "3\n",
            "(5+0j)\n",
            "<class 'complex'>\n"
          ],
          "name": "stdout"
        }
      ]
    },
    {
      "cell_type": "code",
      "metadata": {
        "id": "QjoP_IzexV-H"
      },
      "source": [
        ""
      ],
      "execution_count": null,
      "outputs": []
    }
  ]
}